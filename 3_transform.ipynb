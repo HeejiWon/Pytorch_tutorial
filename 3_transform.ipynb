{
 "cells": [
  {
   "cell_type": "markdown",
   "metadata": {},
   "source": [
    "- TorchVision 데이터 셋들은 매개변수 `transform`과 `target_transform`를 가지나, __torchvision.transform__ 모듈은 주로 사용하는 몇 가지 변형을 제공한다.\n",
    "\n",
    "\n",
    "- FashionMNIST의 feature는 PIL Image 형식이며, 학습을 하기 위해서는 정규화된 텐서가 필요로 하며, label도 원핫 인코딩된 텐서가 필요로 한다."
   ]
  },
  {
   "cell_type": "code",
   "execution_count": 2,
   "metadata": {},
   "outputs": [],
   "source": [
    "import torch\n",
    "from torchvision import datasets\n",
    "from torchvision.transforms import ToTensor, Lambda"
   ]
  },
  {
   "cell_type": "code",
   "execution_count": 3,
   "metadata": {},
   "outputs": [],
   "source": [
    "ds = datasets.FashionMNIST(\n",
    "    root='data',\n",
    "    train=True,\n",
    "    download=True,\n",
    "    transform=ToTensor(),\n",
    "    target_transform=Lambda(lambda y: torch.zeros(10,\n",
    "                        dtype=torch.float).scatter_(0, torch.tensor(y), value=1)))"
   ]
  },
  {
   "cell_type": "markdown",
   "metadata": {},
   "source": [
    "- `scatter_`를 호출하여 주어진 정답 y에 해당하는 인덱스에 value=1을 할당한다."
   ]
  }
 ],
 "metadata": {
  "kernelspec": {
   "display_name": "Python 3",
   "language": "python",
   "name": "python3"
  },
  "language_info": {
   "codemirror_mode": {
    "name": "ipython",
    "version": 3
   },
   "file_extension": ".py",
   "mimetype": "text/x-python",
   "name": "python",
   "nbconvert_exporter": "python",
   "pygments_lexer": "ipython3",
   "version": "3.7.7"
  }
 },
 "nbformat": 4,
 "nbformat_minor": 4
}
